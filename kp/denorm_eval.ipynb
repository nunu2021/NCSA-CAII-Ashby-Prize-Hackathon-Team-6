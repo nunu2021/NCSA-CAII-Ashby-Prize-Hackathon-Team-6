{
 "cells": [
  {
   "cell_type": "code",
   "execution_count": 1,
   "id": "fb615113-eeeb-4dd2-8946-a665660ace52",
   "metadata": {},
   "outputs": [],
   "source": [
    "import numpy as np\n",
    "import xarray as xr\n",
    "import pandas as pd\n",
    "import matplotlib.pyplot as plt\n",
    "import seaborn as sns"
   ]
  },
  {
   "cell_type": "code",
   "execution_count": 2,
   "id": "859eb346-d826-499a-9379-41910a1eb026",
   "metadata": {},
   "outputs": [],
   "source": [
    "y_name = ['ccn_001',\n",
    " 'ccn_003',\n",
    " 'ccn_006',\n",
    " 'CHI',\n",
    " 'CHI_CCN',\n",
    " 'D_ALPHA',\n",
    " 'D_GAMMA',\n",
    " 'D_ALPHA_CCN',\n",
    " 'D_GAMMA_CCN',\n",
    " 'PM25']"
   ]
  },
  {
   "cell_type": "code",
   "execution_count": 3,
   "id": "fe36e1a7-25ad-49af-8c34-c4f61b8551a8",
   "metadata": {},
   "outputs": [],
   "source": [
    "x_name = ['TOT_NUM_CONC',\n",
    " 'TOT_MASS_CONC',\n",
    " 'pmc_SO4',\n",
    " 'pmc_NO3',\n",
    " 'pmc_Cl',\n",
    " 'pmc_NH4',\n",
    " 'pmc_ARO1',\n",
    " 'pmc_ARO2',\n",
    " 'pmc_ALK1',\n",
    " 'pmc_OLE1',\n",
    " 'pmc_API1',\n",
    " 'pmc_API2',\n",
    " 'pmc_LIM1',\n",
    " 'pmc_LIM2',\n",
    " 'pmc_OC',\n",
    " 'pmc_BC',\n",
    " 'pmc_H2O',\n",
    " 'TEMPERATURE',\n",
    " 'REL_HUMID',\n",
    " 'ALT',\n",
    " 'Z',\n",
    " 'XLAT',\n",
    " 'XLONG',\n",
    " 'h2so4',\n",
    " 'hno3',\n",
    " 'hcl',\n",
    " 'nh3',\n",
    " 'no',\n",
    " 'no2',\n",
    " 'no3',\n",
    " 'n2o5',\n",
    " 'hono',\n",
    " 'hno4',\n",
    " 'o3',\n",
    " 'o1d',\n",
    " 'O3P',\n",
    " 'oh',\n",
    " 'ho2',\n",
    " 'h2o2',\n",
    " 'co',\n",
    " 'so2',\n",
    " 'ch4',\n",
    " 'c2h6',\n",
    " 'ch3o2',\n",
    " 'ethp',\n",
    " 'hcho',\n",
    " 'ch3oh',\n",
    " 'ANOL',\n",
    " 'ch3ooh',\n",
    " 'ETHOOH',\n",
    " 'ald2',\n",
    " 'hcooh',\n",
    " 'RCOOH',\n",
    " 'c2o3',\n",
    " 'pan',\n",
    " 'aro1',\n",
    " 'aro2',\n",
    " 'alk1',\n",
    " 'ole1',\n",
    " 'api1',\n",
    " 'api2',\n",
    " 'lim1',\n",
    " 'lim2',\n",
    " 'par',\n",
    " 'AONE',\n",
    " 'mgly',\n",
    " 'eth',\n",
    " 'OLET',\n",
    " 'OLEI',\n",
    " 'tol',\n",
    " 'xyl',\n",
    " 'cres',\n",
    " 'to2',\n",
    " 'cro',\n",
    " 'open',\n",
    " 'onit',\n",
    " 'rooh',\n",
    " 'ro2',\n",
    " 'ano2',\n",
    " 'nap',\n",
    " 'xo2',\n",
    " 'xpar',\n",
    " 'isop',\n",
    " 'isoprd',\n",
    " 'isopp',\n",
    " 'isopn',\n",
    " 'isopo2',\n",
    " 'api',\n",
    " 'lim',\n",
    " 'dms',\n",
    " 'msa',\n",
    " 'dmso',\n",
    " 'dmso2',\n",
    " 'ch3so2h',\n",
    " 'ch3sch2oo',\n",
    " 'ch3so2',\n",
    " 'ch3so3',\n",
    " 'ch3so2oo',\n",
    " 'ch3so2ch2oo',\n",
    " 'SULFHOX',\n",
    " 'P',\n",
    " 'PB',\n",
    " 'cos(Time)']"
   ]
  },
  {
   "cell_type": "code",
   "execution_count": 4,
   "id": "2f2db2a4-e64a-4643-9eaa-a2c035ea6608",
   "metadata": {},
   "outputs": [],
   "source": [
    "new_time_eval=np.array([-0.5       , -0.46174861, -0.42261826, -0.38268343, -0.34202014,\n",
    "       -0.3007058 ,  0.70710678,  0.73727734,  0.76604444,  0.79335334,\n",
    "        0.81915204,  0.84339145])"
   ]
  },
  {
   "cell_type": "code",
   "execution_count": 5,
   "id": "0730f808-b77d-4fcc-b5a2-746da239aa1d",
   "metadata": {},
   "outputs": [],
   "source": [
    "targ_norm_4d=np.load('targ_norm_4d_eval.npy')"
   ]
  },
  {
   "cell_type": "code",
   "execution_count": 17,
   "id": "981ae6c7-d4d1-4168-9fa2-eca791182e66",
   "metadata": {},
   "outputs": [
    {
     "data": {
      "text/plain": [
       "(10, 39, 12, 159, 169)"
      ]
     },
     "execution_count": 17,
     "metadata": {},
     "output_type": "execute_result"
    }
   ],
   "source": [
    "targ_norm_4d.shape"
   ]
  },
  {
   "cell_type": "code",
   "execution_count": 6,
   "id": "431b8f00-a011-4883-a491-f85972813737",
   "metadata": {},
   "outputs": [],
   "source": [
    "targ_norm=np.load('targ_norm_flatten_eval.npy')"
   ]
  },
  {
   "cell_type": "code",
   "execution_count": 7,
   "id": "e1cf3c20-0aa7-4111-b10d-9725dd74dbc9",
   "metadata": {},
   "outputs": [],
   "source": [
    "targ_mean = np.load('targ_mean.npy')\n",
    "targ_std = np.load('targ_std.npy')\n"
   ]
  },
  {
   "cell_type": "code",
   "execution_count": 8,
   "id": "5f28b9cb-1b7c-478c-8502-b4f15a1475e2",
   "metadata": {},
   "outputs": [],
   "source": [
    "targ_norm_t=np.load('norm_data_timesteps_targ_eval/0targ_norm_eval.npy')"
   ]
  },
  {
   "cell_type": "code",
   "execution_count": 9,
   "id": "9fc72c53-0648-41c8-b768-f9ffc30d73da",
   "metadata": {},
   "outputs": [
    {
     "data": {
      "text/plain": [
       "(10479690,)"
      ]
     },
     "execution_count": 9,
     "metadata": {},
     "output_type": "execute_result"
    }
   ],
   "source": [
    "targ_norm_t.shape"
   ]
  },
  {
   "cell_type": "code",
   "execution_count": 15,
   "id": "b9c8a09e-01d1-4ed3-96e1-1416380054af",
   "metadata": {},
   "outputs": [],
   "source": [
    "targ_norm_dim=targ_norm_t.reshape(10,39,159,169)"
   ]
  },
  {
   "cell_type": "code",
   "execution_count": 21,
   "id": "b38ab545-3bae-4cd0-9b70-5c0c8714fc80",
   "metadata": {},
   "outputs": [],
   "source": [
    "targ_denorm_4d = np.zeros((10, 39, 12, 159, 169)) * np.nan"
   ]
  },
  {
   "cell_type": "code",
   "execution_count": 7,
   "id": "fe77429a-8bce-4144-b887-93a41d93a1db",
   "metadata": {},
   "outputs": [],
   "source": [
    "for it in range(12):\n",
    "    targ_norm_t=np.load('norm_data_timesteps_targ_eval/'+str(it)+'targ_norm_eval.npy')\n",
    "    targ_norm_dim=targ_norm_t.reshape(10,39,159,169)\n",
    "    for iy in range(len(y_name)):\n",
    "        for iz in range(39):\n",
    "            y_log=targ_norm_dim[iy,iz,:,:]*targ_std[iy,iz]+targ_mean[iy,iz]\n",
    "            targ_denorm_4d[iy,iz,it,:,:]=np.exp(y_log)\n",
    "            \n"
   ]
  },
  {
   "cell_type": "code",
   "execution_count": 8,
   "id": "089f25ad-d484-474a-bb66-8a934d0e6341",
   "metadata": {},
   "outputs": [],
   "source": []
  },
  {
   "cell_type": "code",
   "execution_count": 9,
   "id": "65543871-cd6b-4607-beb9-ccb66d46d920",
   "metadata": {},
   "outputs": [],
   "source": []
  },
  {
   "cell_type": "code",
   "execution_count": 10,
   "id": "41948b3f-27f7-43be-b994-51b7eb4b797d",
   "metadata": {},
   "outputs": [],
   "source": [
    "#Next are all features, probably don't need denormalization"
   ]
  },
  {
   "cell_type": "code",
   "execution_count": 11,
   "id": "941ac072-20b8-466a-94e0-aa225b6e14f7",
   "metadata": {},
   "outputs": [],
   "source": [
    "#feat_mean=np.load('feat_mean.npy')"
   ]
  },
  {
   "cell_type": "code",
   "execution_count": 12,
   "id": "003ff372-410f-4cd7-89b4-52068974819a",
   "metadata": {},
   "outputs": [],
   "source": [
    "#feat_std=np.load('feat_std.npy')"
   ]
  },
  {
   "cell_type": "code",
   "execution_count": 13,
   "id": "b742148f-4fd5-48fb-b43f-237ae1373ee1",
   "metadata": {},
   "outputs": [],
   "source": [
    "# 102 features + cos(time)\n",
    "#feat_norm_4d = np.zeros((103, 39, 159, 169)) * np.nan\n",
    "#feat_norm_t = np.zeros((39*159*169,103)) * np.nan"
   ]
  },
  {
   "cell_type": "code",
   "execution_count": 14,
   "id": "00837242-4736-4296-925f-effa5c1c102b",
   "metadata": {},
   "outputs": [
    {
     "name": "stdout",
     "output_type": "stream",
     "text": [
      "Time step:0\n",
      "Time step:1\n",
      "Time step:2\n",
      "Time step:3\n",
      "Time step:4\n",
      "Time step:5\n",
      "Time step:6\n",
      "Time step:7\n",
      "Time step:8\n",
      "Time step:9\n",
      "Time step:10\n",
      "Time step:11\n"
     ]
    }
   ],
   "source": [
    "ft_mean_p=10.31601\n",
    "ft_std_p=0.9260424\n",
    "ft_mean_pb=10.305028\n",
    "ft_std_pb=0.92249596\n",
    "ft_mean_alt=0.84901726\n",
    "ft_std_alt=0.8125616\n",
    "ft_mean_z=8953.694\n",
    "ft_std_z=6434.8677\n",
    "\n",
    "for it in range(12):\n",
    "    print('Time step:'+str(it))\n",
    "    ds = xr.open_dataset(\"evaluation.nc\").sel(Time=it)\n",
    "    for ix in range(len(x_name)):\n",
    "        for iz in range(39):            \n",
    "            if (ix < len(x_name)-1) and (x_name[ix] != 'Z') and (x_name[ix]!='ALT') and (x_name[ix]!='P') and (x_name[ix]!='PB') and (x_name[ix]!='XLAT') and (x_name[ix]!='XLONG'):\n",
    "                #print(x_name[ix])\n",
    "                x = ds.sel(bottom_top=iz)\n",
    "                x_new=x[x_name[ix]]\n",
    "                x_max = x_new.max()\n",
    "                x_min = np.where(x_new == 0, x_max, x_new).min()\n",
    "                x_n = np.where(x_new == 0, x_min, x_new)\n",
    "                x_log = np.log(x_n)\n",
    "                feat_norm_4d[ix,iz,:,:]=(x_log - feat_mean[ix,iz])/feat_std[ix,iz]\n",
    "            if (x_name[ix]=='PB') :\n",
    "                #print(x_name[ix])\n",
    "                x = ds.sel(bottom_top=iz)\n",
    "                x_new=x[x_name[ix]]\n",
    "                x_max = x_new.max()\n",
    "                x_min = np.where(x_new == 0, x_max, x_new).min()\n",
    "                x_n = np.where(x_new == 0, x_min, x_new)\n",
    "                x_log = np.log(x_n)\n",
    "                feat_norm_4d[ix,iz,:,:]=(x_log - ft_mean_pb)/ft_std_pb\n",
    "            if (x_name[ix]=='ALT') :\n",
    "                #print(x_name[ix])\n",
    "                x = ds.sel(bottom_top=iz)\n",
    "                x_new=x[x_name[ix]]\n",
    "                x_max = x_new.max()\n",
    "                x_min = np.where(x_new == 0, x_max, x_new).min()\n",
    "                x_n = np.where(x_new == 0, x_min, x_new)\n",
    "                x_log = np.log(x_n)\n",
    "                feat_norm_4d[ix,iz,:,:]=(x_log - ft_mean_alt)/ft_std_alt\n",
    "            if (x_name[ix]=='P'):\n",
    "                #print(x_name[ix])\n",
    "                x = ds.sel(bottom_top=iz)\n",
    "                x_new=x[x_name[ix]]\n",
    "                x_add=x_new+x['PB']\n",
    "                #print(x_add.shape)\n",
    "                #x_max = x_add.max()\n",
    "                #x_min = np.where(x_add == 0, x_max, x_add).min()\n",
    "                #x_n = np.where(x_add == 0, x_min, x_add)\n",
    "                x_log = np.log(x_add)\n",
    "                #print(x_log)\n",
    "                feat_norm_4d[ix,iz,:,:]=(x_log - ft_mean_p)/ft_std_p     \n",
    "                #print((x_log - ft_mean_p)/ft_std_p)\n",
    "            if (x_name[ix]=='Z'):\n",
    "                #print(x_name[ix])\n",
    "                x = ds.sel(bottom_top=iz)\n",
    "                x_new=x[x_name[ix]]\n",
    "                feat_norm_4d[ix,iz,:,:]=(x_new - ft_mean_z)/ft_std_z\n",
    "            if (x_name[ix]=='XLAT') or (x_name[ix]=='XLONG'):\n",
    "                #print(x_name[ix])\n",
    "                x = ds.sel(bottom_top=iz)\n",
    "                x_new=x[x_name[ix]]\n",
    "                #x_max = x_new.max()\n",
    "                #x_min = np.where(x_new == 0, x_max, x_new).min()\n",
    "                #x_n = np.where(x_new == 0, x_min, x_new)\n",
    "                #x_log = np.log(x_n)\n",
    "                feat_norm_4d[ix,iz,:,:]=x_new\n",
    "                \n",
    "        if ix == 102:\n",
    "            feat_norm_4d[ix,:,:,:]=new_time_eval[it]\n",
    "    feat_norm_t=feat_norm_4d[:, :, :, :].flatten().reshape(103,-1).transpose()\n",
    "    np.save('norm_data_timesteps_feat_eval/'+str(it)+'feat_norm_eval.npy',feat_norm_t)\n",
    "        \n"
   ]
  },
  {
   "cell_type": "code",
   "execution_count": null,
   "id": "64fc6db7-e488-4d15-845c-307047d97784",
   "metadata": {},
   "outputs": [],
   "source": []
  }
 ],
 "metadata": {
  "kernelspec": {
   "display_name": "local-jup",
   "language": "python",
   "name": "local-jup"
  },
  "language_info": {
   "codemirror_mode": {
    "name": "ipython",
    "version": 3
   },
   "file_extension": ".py",
   "mimetype": "text/x-python",
   "name": "python",
   "nbconvert_exporter": "python",
   "pygments_lexer": "ipython3",
   "version": "3.9.12"
  }
 },
 "nbformat": 4,
 "nbformat_minor": 5
}
